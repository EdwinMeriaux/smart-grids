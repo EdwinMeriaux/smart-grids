{
 "cells": [
  {
   "cell_type": "code",
   "execution_count": 24,
   "id": "dda06244",
   "metadata": {},
   "outputs": [
    {
     "name": "stdout",
     "output_type": "stream",
     "text": [
      "<scipy.stats._distn_infrastructure.rv_frozen object at 0x7f9bbd7ab780>\n"
     ]
    },
    {
     "data": {
      "image/png": "[encoded data removed]",
      "text/plain": [
       "<Figure size 432x288 with 1 Axes>"
      ]
     },
     "metadata": {
      "needs_background": "light"
     },
     "output_type": "display_data"
    }
   ],
   "source": [
    "%matplotlib inline\n",
    "from scipy.stats import poisson\n",
    "import numpy as np\n",
    "import matplotlib.pyplot as plt\n",
    "fig, ax = plt.subplots(1, 1)\n",
    "mu = 0.6\n",
    "mean, var, skew, kurt = poisson.stats(mu, moments='mvsk')\n",
    "x = np.arange(poisson.ppf(0.01, mu),poisson.ppf(0.99, mu))\n",
    "ax.plot(x, poisson.pmf(x, mu), 'bo', ms=8, label='poisson pmf')\n",
    "ax.vlines(x, 0, poisson.pmf(x, mu), colors='b', lw=5, alpha=0.5)\n",
    "rv = poisson(mu)\n",
    "print(rv)\n",
    "ax.vlines(x, 0, rv.pmf(x), colors='k', linestyles='-', lw=1,label='frozen pmf')\n",
    "ax.legend(loc='best', frameon=False)\n",
    "plt.show()\n"
   ]
  },
  {
   "cell_type": "code",
   "execution_count": 21,
   "id": "9716ad04",
   "metadata": {},
   "outputs": [],
   "source": [
    "\n"
   ]
  },
  {
   "cell_type": "code",
   "execution_count": 22,
   "id": "57de5913",
   "metadata": {},
   "outputs": [
    {
     "data": {
      "text/plain": [
       "<matplotlib.collections.LineCollection at 0x7f9bbd85e828>"
      ]
     },
     "execution_count": 22,
     "metadata": {},
     "output_type": "execute_result"
    }
   ],
   "source": []
  },
  {
   "cell_type": "code",
   "execution_count": 23,
   "id": "cb6e7c95",
   "metadata": {},
   "outputs": [
    {
     "name": "stdout",
     "output_type": "stream",
     "text": [
      "<scipy.stats._distn_infrastructure.rv_frozen object at 0x7f9bbd85e2e8>\n"
     ]
    }
   ],
   "source": []
  },
  {
   "cell_type": "code",
   "execution_count": 25,
   "id": "ec9483e9",
   "metadata": {},
   "outputs": [
    {
     "name": "stdout",
     "output_type": "stream",
     "text": [
      "[1 0 1 1 0 0 0 1 1 0 2 1 0 0 1 0 0 1 1 1 0 0 2 1 1 0 2 2 0 2 2 0 0 0 0 1 1\n",
      " 0 1 2 1 1 1 0 0 0 1 0 0 1 0 1 1 1 0 1 1 1 1 0 1 0 1 1 0 0 0 1 0 0 0 3 2 1\n",
      " 0 0 0 1 2 0 4 0 1 1 1 0 1 0 1 0 1 0 1 2 0 0 1 2 0 0 0 1 0 0 0 0 0 0 0 1 2\n",
      " 1 0 2 0 0 0 2 0 0 0 0 0 5 0 0 0 0 2 0 0 0 0 0 1 1 0 2 0 1 4 0 0 1 0 0 1 0\n",
      " 0 0 0 0 0 1 1 0 0 0 0 0 0 0 0 0 1 0 0 0 1 0 0 1 0 0 0 0 1 0 2 0 0 3 0 1 2\n",
      " 1 1 0 0 1 0 0 3 1 3 0 0 0 1 0 0 0 0 0 0 1 0 1 2 0 3 1 0 2 2 1 0 1 1 0 0 0\n",
      " 0 2 0 0 0 0 0 1 1 0 0 0 1 1 2 0 1 1 1 1 1 1 0 1 1 0 1 0 0 0 1 0 0 0 2 0 1\n",
      " 0 0 0 1 0 0 1 0 0 1 0 0 1 0 1 1 1 1 0 0 0 0 0 0 0 1 0 0 2 0 1 1 1 0 0 0 1\n",
      " 0 0 0 1 1 0 0 0 0 1 0 1 1 1 1 1 0 1 1 1 2 0 0 2 0 0 0 2 0 1 3 1 0 0 0 1 1\n",
      " 1 0 0 3 0 1 1 1 1 0 1 1 0 0 1 3 1 0 0 0 0 1 0 0 0 0 0 0 0 0 0 2 1 0 0 1 0\n",
      " 1 0 0 0 1 1 0 2 1 0 0 0 0 0 0 1 1 0 1 0 0 0 1 0 1 1 0 1 1 0 0 1 0 2 1 0 0\n",
      " 1 1 1 0 2 0 0 0 0 1 0 0 1 0 1 0 0 0 0 0 0 1 1 1 0 0 3 1 0 0 2 1 1 0 0 1 0\n",
      " 0 0 0 1 0 0 0 1 0 0 0 0 0 0 0 0 0 0 0 0 1 0 1 1 0 0 0 0 1 1 1 0 1 0 0 0 0\n",
      " 1 1 1 2 1 1 2 1 1 0 1 0 0 0 0 0 0 0 2 1 1 0 0 1 0 0 0 0 1 0 0 1 0 2 2 0 0\n",
      " 0 1 2 0 1 1 1 1 1 1 1 0 1 1 2 3 1 0 1 1 0 1 1 1 0 0 0 0 0 0 2 1 0 2 0 0 0\n",
      " 0 0 0 1 2 0 0 2 1 1 0 0 2 1 0 1 0 1 0 0 0 0 0 0 0 0 1 0 0 0 0 2 2 0 0 0 2\n",
      " 0 0 0 1 0 0 0 0 1 0 1 1 1 1 1 0 0 0 0 0 0 1 1 2 2 1 1 1 0 0 1 0 0 0 0 1 1\n",
      " 0 1 2 2 0 2 1 0 2 3 0 1 1 0 1 1 0 0 1 0 0 1 0 1 0 0 0 0 0 2 1 0 0 2 1 2 0\n",
      " 0 1 0 0 0 1 0 0 0 0 1 0 1 1 1 0 0 0 0 0 1 0 1 2 1 1 1 0 1 2 0 1 1 0 0 2 2\n",
      " 2 1 1 0 3 2 2 2 0 0 3 0 0 0 0 0 0 1 1 0 1 1 0 0 0 0 3 2 0 1 0 1 0 1 1 1 0\n",
      " 1 1 0 2 0 0 0 0 2 1 0 1 0 1 0 0 0 0 0 1 0 0 0 1 1 0 1 0 1 0 2 1 2 0 1 0 1\n",
      " 0 1 1 1 0 1 0 0 2 2 3 0 1 0 1 1 0 0 1 0 0 3 0 0 0 0 0 1 0 0 0 0 1 1 0 0 1\n",
      " 0 0 0 1 1 0 0 1 0 2 0 0 0 0 1 2 0 1 0 0 0 0 0 1 1 2 1 2 2 0 0 1 1 1 0 0 0\n",
      " 1 0 0 0 3 0 0 0 0 1 2 1 0 1 0 1 0 0 2 2 2 1 0 0 1 0 1 0 0 1 1 0 0 0 1 0 2\n",
      " 1 1 0 0 2 1 2 0 2 0 0 0 1 1 0 3 1 0 0 0 0 0 0 0 0 0 2 0 4 0 0 0 0 0 2 1 1\n",
      " 1 2 2 1 1 1 0 0 0 0 0 0 0 0 0 2 0 1 2 0 1 1 1 1 0 0 2 0 2 3 0 0 2 1 0 0 0\n",
      " 0 0 1 1 0 0 0 0 2 1 2 0 0 2 0 0 0 1 0 1 1 2 3 1 1 0 0 0 0 1 0 0 0 0 0 1 1\n",
      " 1]\n"
     ]
    }
   ],
   "source": []
  },
  {
   "cell_type": "code",
   "execution_count": 28,
   "id": "4ba983e4",
   "metadata": {},
   "outputs": [
    {
     "data": {
      "image/png": "[encoded data removed]",
      "text/plain": [
       "<Figure size 432x288 with 1 Axes>"
      ]
     },
     "metadata": {
      "needs_background": "light"
     },
     "output_type": "display_data"
    }
   ],
   "source": [
    "mu = 0.6\n",
    "r = poisson.rvs(mu, size=1000)\n",
    "plt.hist(r)\n",
    "plt.show() "
   ]
  },
  {
   "cell_type": "code",
   "execution_count": 30,
   "id": "fa42060c",
   "metadata": {},
   "outputs": [
    {
     "data": {
      "image/png": "[encoded data removed]",
      "text/plain": [
       "<Figure size 432x288 with 1 Axes>"
      ]
     },
     "metadata": {
      "needs_background": "light"
     },
     "output_type": "display_data"
    }
   ],
   "source": [
    "mu = 10\n",
    "r = poisson.rvs(mu, size=1000)\n",
    "plt.hist(r)\n",
    "plt.show() "
   ]
  },
  {
   "cell_type": "code",
   "execution_count": null,
   "id": "69708031",
   "metadata": {},
   "outputs": [],
   "source": []
  }
 ],
 "metadata": {
  "kernelspec": {
   "display_name": "Python 3",
   "language": "python",
   "name": "python3"
  },
  "language_info": {
   "codemirror_mode": {
    "name": "ipython",
    "version": 3
   },
   "file_extension": ".py",
   "mimetype": "text/x-python",
   "name": "python",
   "nbconvert_exporter": "python",
   "pygments_lexer": "ipython3",
   "version": "3.6.9"
  }
 },
 "nbformat": 4,
 "nbformat_minor": 5
}
