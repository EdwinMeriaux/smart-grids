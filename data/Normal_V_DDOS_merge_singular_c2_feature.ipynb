{
 "cells": [
  {
   "cell_type": "code",
   "execution_count": null,
   "id": "d5ad1c80",
   "metadata": {},
   "outputs": [],
   "source": [
    "from sklearn import tree\n",
    "import pandas as pd\n",
    "import matplotlib.pyplot as plt\n",
    "from sklearn.model_selection import train_test_split\n",
    "from sklearn.preprocessing import LabelEncoder\n",
    "from sklearn.metrics import precision_score,recall_score,f1_score\n",
    "from sklearn.ensemble import RandomForestClassifier\n",
    "from sklearn.metrics import confusion_matrix\n",
    "from sklearn.inspection import permutation_importance\n",
    "from sklearn.discriminant_analysis import QuadraticDiscriminantAnalysis\n",
    "from sklearn.svm import SVC\n",
    "from sklearn.pipeline import make_pipeline\n",
    "from sklearn.preprocessing import StandardScaler\n",
    "import time\n",
    "import numpy as np\n",
    "import pandas as pd"
   ]
  },
  {
   "cell_type": "code",
   "execution_count": null,
   "id": "d578d39e",
   "metadata": {},
   "outputs": [],
   "source": [
    "df=pd.read_csv('C2.csv')\n",
    "\n",
    "print(df)"
   ]
  },
  {
   "cell_type": "code",
   "execution_count": null,
   "id": "fce8f856",
   "metadata": {
    "scrolled": true
   },
   "outputs": [],
   "source": [
    "print(df)"
   ]
  },
  {
   "cell_type": "code",
   "execution_count": null,
   "id": "63c7adb5",
   "metadata": {},
   "outputs": [],
   "source": [
    "number_columns = 2\n",
    "df.columns\n",
    "feature_names = df.columns\n",
    "feature_names = feature_names[:(number_columns-1)]\n",
    "print(feature_names)"
   ]
  },
  {
   "cell_type": "code",
   "execution_count": null,
   "id": "63ae594e",
   "metadata": {},
   "outputs": [],
   "source": [
    "fig = plt.figure(figsize = (15,20))\n",
    "plt.xticks(rotation = 60)\n",
    "ax = fig.gca()\n",
    "df['C42'].hist()"
   ]
  },
  {
   "cell_type": "code",
   "execution_count": null,
   "id": "d08cd942",
   "metadata": {},
   "outputs": [],
   "source": [
    "print(df['C42'].unique())\n",
    "\n"
   ]
  },
  {
   "cell_type": "code",
   "execution_count": null,
   "id": "13778d8f",
   "metadata": {},
   "outputs": [],
   "source": [
    "df=df[(df['C42']=='normal.') | (df['C42']=='smurf.') | (df['C42']=='snmpgetattack.') | (df['C42']=='udpstorm.') | (df['C42']=='neptune.')]\n",
    "df.head()"
   ]
  },
  {
   "cell_type": "code",
   "execution_count": null,
   "id": "1db5f442",
   "metadata": {},
   "outputs": [],
   "source": [
    "plt.xticks(rotation = 60)\n",
    "df['C42'].hist()\n"
   ]
  },
  {
   "cell_type": "code",
   "execution_count": null,
   "id": "181942c2",
   "metadata": {},
   "outputs": [],
   "source": [
    "16000/(16000+6000)\n",
    "#results if the model does not train and guesses majority case"
   ]
  },
  {
   "cell_type": "code",
   "execution_count": null,
   "id": "45089a75",
   "metadata": {},
   "outputs": [],
   "source": [
    "data=df.values\n",
    "data.shape"
   ]
  },
  {
   "cell_type": "code",
   "execution_count": null,
   "id": "34118ccd",
   "metadata": {},
   "outputs": [],
   "source": [
    "data[:,0]"
   ]
  },
  {
   "cell_type": "code",
   "execution_count": null,
   "id": "2a945cc0",
   "metadata": {},
   "outputs": [],
   "source": [
    "#encoding data to be numerical values\n",
    "le=[None]*number_columns\n",
    "for i in range(number_columns):\n",
    "    print(i,end=' | ')\n",
    "    le[i] = LabelEncoder()\n",
    "    le[i].fit(data[:,i])\n",
    "    data[:,i]=le[i].transform(data[:,i])"
   ]
  },
  {
   "cell_type": "code",
   "execution_count": null,
   "id": "25ddb301",
   "metadata": {},
   "outputs": [],
   "source": [
    "print(data)\n",
    "print(len(data))\n",
    "print(data[1,number_columns-1])\n",
    "for i in range(len(data)):\n",
    "    if data[i,number_columns-1] != 1:\n",
    "        data[i,number_columns-1] = 2"
   ]
  },
  {
   "cell_type": "code",
   "execution_count": null,
   "id": "37d77554",
   "metadata": {},
   "outputs": [],
   "source": [
    "data=data.astype('int')\n",
    "print(data[:,1])\n",
    "print(data)"
   ]
  },
  {
   "cell_type": "code",
   "execution_count": null,
   "id": "ee52990a",
   "metadata": {},
   "outputs": [],
   "source": [
    "#creating data both for training and testing\n",
    "X_train,X_test,y_train,y_test=train_test_split(data[:,:number_columns-1],data[:,number_columns-1],test_size=0.2, random_state=42)"
   ]
  },
  {
   "cell_type": "code",
   "execution_count": null,
   "id": "88381e7a",
   "metadata": {},
   "outputs": [],
   "source": [
    "#training and testing the data\n",
    "start = time.time()\n",
    "t=tree.DecisionTreeClassifier()\n",
    "t.fit(X_train,y_train)\n",
    "train_time_Dtree = time.time() - start\n",
    "res=t.predict(X_test)\n",
    "\n"
   ]
  },
  {
   "cell_type": "code",
   "execution_count": null,
   "id": "223f8acd",
   "metadata": {},
   "outputs": [],
   "source": []
  },
  {
   "cell_type": "code",
   "execution_count": null,
   "id": "ec716bf5",
   "metadata": {},
   "outputs": [],
   "source": []
  },
  {
   "cell_type": "code",
   "execution_count": null,
   "id": "1cfb5477",
   "metadata": {},
   "outputs": [],
   "source": [
    "from sklearn.inspection import permutation_importance\n",
    "\n",
    "start_time = time.time()\n",
    "result = permutation_importance(\n",
    "    t, X_test, y_test, n_repeats=10, random_state=42, n_jobs=2\n",
    ")\n",
    "elapsed_time = time.time() - start_time\n",
    "print(f\"Elapsed time to compute the importances: {elapsed_time:.3f} seconds\")\n",
    "\n"
   ]
  },
  {
   "cell_type": "code",
   "execution_count": null,
   "id": "8065afb3",
   "metadata": {},
   "outputs": [],
   "source": [
    "forest_importances = pd.Series(result.importances_mean, index=feature_names)"
   ]
  },
  {
   "cell_type": "code",
   "execution_count": null,
   "id": "162a702a",
   "metadata": {},
   "outputs": [],
   "source": [
    "fig, ax = plt.subplots(1,1,figsize=(15,15))\n",
    "forest_importances.plot.bar(yerr=result.importances_std, ax=ax)\n",
    "ax.set_title(\"Feature importances using permutation on full model\")\n",
    "ax.set_ylabel(\"Mean accuracy decrease\")\n",
    "fig.tight_layout()\n",
    "plt.show()"
   ]
  },
  {
   "cell_type": "code",
   "execution_count": null,
   "id": "9bfebad3",
   "metadata": {},
   "outputs": [],
   "source": [
    "sum(res==y_test)/len(y_test)*100"
   ]
  },
  {
   "cell_type": "code",
   "execution_count": null,
   "id": "206af6e6",
   "metadata": {},
   "outputs": [],
   "source": [
    "res==y_test"
   ]
  },
  {
   "cell_type": "code",
   "execution_count": null,
   "id": "3c6f1147",
   "metadata": {},
   "outputs": [],
   "source": [
    "precision_score(res,y_test,average='micro')"
   ]
  },
  {
   "cell_type": "code",
   "execution_count": null,
   "id": "68c4d6a2",
   "metadata": {},
   "outputs": [],
   "source": [
    "recall_score(res,y_test,average='micro')"
   ]
  },
  {
   "cell_type": "code",
   "execution_count": null,
   "id": "b532bd20",
   "metadata": {},
   "outputs": [],
   "source": [
    "f1_score(res,y_test,average='micro')"
   ]
  },
  {
   "cell_type": "code",
   "execution_count": null,
   "id": "c5da87a5",
   "metadata": {},
   "outputs": [],
   "source": [
    "confusion_matrix(res, y_test)"
   ]
  },
  {
   "cell_type": "code",
   "execution_count": null,
   "id": "096671a7",
   "metadata": {},
   "outputs": [],
   "source": [
    "start = time.time()\n",
    "clf = RandomForestClassifier(max_depth=100, random_state=10)\n",
    "clf.fit(X_train, y_train)\n",
    "train_time_RandomForest = time.time() - start"
   ]
  },
  {
   "cell_type": "code",
   "execution_count": null,
   "id": "43a48acb",
   "metadata": {},
   "outputs": [],
   "source": [
    "start_time = time.time()\n",
    "importances = clf.feature_importances_\n",
    "std = np.std([tree.feature_importances_ for tree in clf.estimators_], axis=0)\n",
    "elapsed_time = time.time() - start_time\n",
    "\n",
    "print(f\"Elapsed time to compute the importances: {elapsed_time:.3f} seconds\")"
   ]
  },
  {
   "cell_type": "code",
   "execution_count": null,
   "id": "233d584d",
   "metadata": {},
   "outputs": [],
   "source": [
    "forest_importances = pd.Series(importances, index=feature_names)\n",
    "\n",
    "fig, ax = plt.subplots(1,1,figsize=(15,15))\n",
    "#fig = plt.figure(figsize = (15,20))\n",
    "forest_importances.plot.bar(yerr=std, ax=ax)\n",
    "ax.set_title(\"Feature importances using MDI\")\n",
    "ax.set_ylabel(\"Mean decrease in impurity\")\n",
    "fig.tight_layout()"
   ]
  },
  {
   "cell_type": "code",
   "execution_count": null,
   "id": "db86cf5c",
   "metadata": {},
   "outputs": [],
   "source": [
    "start_time = time.time()\n",
    "result = permutation_importance(\n",
    "    clf, X_test, y_test, n_repeats=10, random_state=42, n_jobs=2\n",
    ")\n",
    "elapsed_time = time.time() - start_time\n",
    "print(f\"Elapsed time to compute the importances: {elapsed_time:.3f} seconds\")\n",
    "\n",
    "forest_importances = pd.Series(result.importances_mean, index=feature_names)"
   ]
  },
  {
   "cell_type": "code",
   "execution_count": null,
   "id": "c43ab632",
   "metadata": {},
   "outputs": [],
   "source": [
    "fig, ax = plt.subplots(1,1,figsize=(15,15))\n",
    "forest_importances.plot.bar(yerr=result.importances_std, ax=ax)\n",
    "ax.set_title(\"Feature importances using permutation on full model\")\n",
    "ax.set_ylabel(\"Mean accuracy decrease\")\n",
    "fig.tight_layout()\n",
    "plt.show()"
   ]
  },
  {
   "cell_type": "code",
   "execution_count": null,
   "id": "45e61ca0",
   "metadata": {},
   "outputs": [],
   "source": []
  },
  {
   "cell_type": "code",
   "execution_count": null,
   "id": "1fc58c0d",
   "metadata": {},
   "outputs": [],
   "source": []
  },
  {
   "cell_type": "code",
   "execution_count": null,
   "id": "f80d0cff",
   "metadata": {},
   "outputs": [],
   "source": []
  },
  {
   "cell_type": "code",
   "execution_count": null,
   "id": "a01832b7",
   "metadata": {},
   "outputs": [],
   "source": [
    "res=clf.predict(X_test)"
   ]
  },
  {
   "cell_type": "code",
   "execution_count": null,
   "id": "c6d846f0",
   "metadata": {},
   "outputs": [],
   "source": [
    "sum(res==y_test)/len(y_test)*100"
   ]
  },
  {
   "cell_type": "code",
   "execution_count": null,
   "id": "411dd2cb",
   "metadata": {},
   "outputs": [],
   "source": [
    "precision_score(res,y_test,average='micro')"
   ]
  },
  {
   "cell_type": "code",
   "execution_count": null,
   "id": "0877fb0d",
   "metadata": {},
   "outputs": [],
   "source": [
    "recall_score(res,y_test,average='micro')"
   ]
  },
  {
   "cell_type": "code",
   "execution_count": null,
   "id": "ac7f544c",
   "metadata": {},
   "outputs": [],
   "source": [
    "f1_score(res,y_test,average='micro')"
   ]
  },
  {
   "cell_type": "code",
   "execution_count": null,
   "id": "1328d1fc",
   "metadata": {},
   "outputs": [],
   "source": [
    "confusion_matrix(res, y_test)"
   ]
  },
  {
   "cell_type": "code",
   "execution_count": null,
   "id": "a2b783ab",
   "metadata": {},
   "outputs": [],
   "source": [
    "start = time.time()\n",
    "qda = QuadraticDiscriminantAnalysis()\n",
    "qda.fit(X_train, y_train)\n",
    "train_time_QDA = time.time() - start"
   ]
  },
  {
   "cell_type": "code",
   "execution_count": null,
   "id": "d0c48a36",
   "metadata": {},
   "outputs": [],
   "source": [
    "start_time = time.time()\n",
    "result = permutation_importance(\n",
    "    qda, X_test, y_test, n_repeats=10, random_state=42, n_jobs=2\n",
    ")\n",
    "elapsed_time = time.time() - start_time\n",
    "print(f\"Elapsed time to compute the importances: {elapsed_time:.3f} seconds\")\n",
    "\n",
    "forest_importances = pd.Series(result.importances_mean, index=feature_names)"
   ]
  },
  {
   "cell_type": "code",
   "execution_count": null,
   "id": "edba0e02",
   "metadata": {},
   "outputs": [],
   "source": [
    "res=qda.predict(X_test)"
   ]
  },
  {
   "cell_type": "code",
   "execution_count": null,
   "id": "b8ad42cb",
   "metadata": {},
   "outputs": [],
   "source": [
    "sum(res==y_test)/len(y_test)*100"
   ]
  },
  {
   "cell_type": "code",
   "execution_count": null,
   "id": "8841c7d6",
   "metadata": {},
   "outputs": [],
   "source": [
    "precision_score(res,y_test,average='micro')"
   ]
  },
  {
   "cell_type": "code",
   "execution_count": null,
   "id": "8db78615",
   "metadata": {},
   "outputs": [],
   "source": [
    "recall_score(res,y_test,average='micro')"
   ]
  },
  {
   "cell_type": "code",
   "execution_count": null,
   "id": "937572de",
   "metadata": {},
   "outputs": [],
   "source": [
    "f1_score(res,y_test,average='micro')"
   ]
  },
  {
   "cell_type": "code",
   "execution_count": null,
   "id": "2979fdf3",
   "metadata": {},
   "outputs": [],
   "source": [
    "confusion_matrix(res, y_test)"
   ]
  },
  {
   "cell_type": "code",
   "execution_count": null,
   "id": "e7063464",
   "metadata": {},
   "outputs": [],
   "source": []
  },
  {
   "cell_type": "code",
   "execution_count": null,
   "id": "48b0c875",
   "metadata": {},
   "outputs": [],
   "source": [
    "start = time.time()\n",
    "clf = make_pipeline(StandardScaler(), SVC(gamma='auto'))\n",
    "clf.fit(X_train, y_train)\n",
    "train_time_SVM = time.time() - start\n",
    "\n",
    "\n"
   ]
  },
  {
   "cell_type": "code",
   "execution_count": null,
   "id": "8fa89367",
   "metadata": {},
   "outputs": [],
   "source": [
    "res=clf.predict(X_test)"
   ]
  },
  {
   "cell_type": "code",
   "execution_count": 47,
   "id": "8d7831d9",
   "metadata": {},
   "outputs": [
    {
     "name": "stdout",
     "output_type": "stream",
     "text": [
      "82.16265537306752\n"
     ]
    }
   ],
   "source": [
    "print(sum(res==y_test)/len(y_test)*100)"
   ]
  },
  {
   "cell_type": "code",
   "execution_count": 48,
   "id": "24b9fbe2",
   "metadata": {},
   "outputs": [
    {
     "name": "stdout",
     "output_type": "stream",
     "text": [
      "Elapsed time to compute the importances: 38049.839 seconds\n"
     ]
    }
   ],
   "source": [
    "result = permutation_importance(\n",
    "    clf, X_test, y_test, n_repeats=10, random_state=42, n_jobs=2\n",
    ")\n",
    "elapsed_time = time.time() - start_time\n",
    "print(f\"Elapsed time to compute the importances: {elapsed_time:.3f} seconds\")"
   ]
  },
  {
   "cell_type": "code",
   "execution_count": 49,
   "id": "b62ac180",
   "metadata": {},
   "outputs": [
    {
     "name": "stdout",
     "output_type": "stream",
     "text": [
      "82.16265537306752\n",
      "0.8216265537306752\n",
      "0.8216265537306752\n",
      "0.8216265537306752\n",
      "[[ 3237  1542]\n",
      " [ 8819 44488]]\n"
     ]
    }
   ],
   "source": [
    "forest_importances = pd.Series(result.importances_mean, index=feature_names)\n",
    "\n",
    "res=clf.predict(X_test)\n",
    "\n",
    "print(sum(res==y_test)/len(y_test)*100)\n",
    "\n",
    "print(precision_score(res,y_test,average='micro'))\n",
    "\n",
    "print(recall_score(res,y_test,average='micro'))\n",
    "\n",
    "print(f1_score(res,y_test,average='micro'))\n",
    "\n",
    "confusion_matrix(res, y_test)\n",
    "print(confusion_matrix(res,y_test))"
   ]
  },
  {
   "cell_type": "code",
   "execution_count": null,
   "id": "2e1d1851",
   "metadata": {},
   "outputs": [],
   "source": [
    "print(\"training times:\")\n",
    "print(\"Decision Tree: \",train_time_Dtree)\n",
    "print(\"Random Forest: \",train_time_RandomForest)\n",
    "print(\"Quadratic Discriminant Analysis: \",train_time_QDA)"
   ]
  },
  {
   "cell_type": "code",
   "execution_count": null,
   "id": "ad38947f",
   "metadata": {},
   "outputs": [],
   "source": [
    "start_time = time.time()\n",
    "result = permutation_importance(\n",
    "    qda, X_test, y_test, n_repeats=10, random_state=42, n_jobs=2\n",
    ")\n",
    "elapsed_time = time.time() - start_time\n",
    "print(f\"Elapsed time to compute the importances: {elapsed_time:.3f} seconds\")\n",
    "\n",
    "forest_importances = pd.Series(result.importances_mean, index=feature_names)"
   ]
  },
  {
   "cell_type": "code",
   "execution_count": null,
   "id": "1383774a",
   "metadata": {},
   "outputs": [],
   "source": [
    "fig, ax = plt.subplots(1,1,figsize=(15,15))\n",
    "forest_importances.plot.bar(yerr=result.importances_std, ax=ax)\n",
    "ax.set_title(\"Feature importances using permutation on full model\")\n",
    "ax.set_ylabel(\"Mean accuracy decrease\")\n",
    "fig.tight_layout()\n",
    "plt.show()"
   ]
  },
  {
   "cell_type": "code",
   "execution_count": null,
   "id": "92e6da62",
   "metadata": {},
   "outputs": [],
   "source": []
  },
  {
   "cell_type": "code",
   "execution_count": null,
   "id": "0de932f1",
   "metadata": {},
   "outputs": [],
   "source": []
  },
  {
   "cell_type": "code",
   "execution_count": null,
   "id": "6e47a19f",
   "metadata": {},
   "outputs": [],
   "source": []
  }
 ],
 "metadata": {
  "kernelspec": {
   "display_name": "Python 3 (ipykernel)",
   "language": "python",
   "name": "python3"
  },
  "language_info": {
   "codemirror_mode": {
    "name": "ipython",
    "version": 3
   },
   "file_extension": ".py",
   "mimetype": "text/x-python",
   "name": "python",
   "nbconvert_exporter": "python",
   "pygments_lexer": "ipython3",
   "version": "3.9.7"
  }
 },
 "nbformat": 4,
 "nbformat_minor": 5
}
