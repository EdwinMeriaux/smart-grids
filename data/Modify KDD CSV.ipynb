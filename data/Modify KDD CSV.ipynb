{
 "cells": [
  {
   "cell_type": "code",
   "execution_count": 69,
   "id": "d95e8f4f",
   "metadata": {},
   "outputs": [],
   "source": [
    "from sklearn import tree\n",
    "import pandas as pd\n",
    "import matplotlib.pyplot as plt\n",
    "from sklearn.model_selection import train_test_split\n",
    "from sklearn.preprocessing import LabelEncoder\n",
    "from sklearn.metrics import precision_score,recall_score,f1_score\n",
    "from sklearn.ensemble import RandomForestClassifier\n",
    "from sklearn.metrics import confusion_matrix\n",
    "import time\n",
    "import numpy as np\n",
    "import pandas as pd\n",
    "from scipy.stats import poisson, uniform"
   ]
  },
  {
   "cell_type": "code",
   "execution_count": null,
   "id": "c0a58ac6",
   "metadata": {},
   "outputs": [],
   "source": []
  },
  {
   "cell_type": "code",
   "execution_count": 70,
   "id": "6c0d9c2a",
   "metadata": {},
   "outputs": [
    {
     "name": "stdout",
     "output_type": "stream",
     "text": [
      "[9, 24, 38]\n",
      "[1, 2, 3, 4, 5, 6, 7, 8, 10, 11, 12, 13, 14, 15, 16, 17, 18, 19, 20, 21, 22, 23, 25, 26, 27, 28, 29, 30, 31, 32, 33, 34, 35, 36, 37, 39, 40, 41, 42, 43, 44, 45, 46, 47, 48, 49, 50, 51, 52, 53, 54, 55, 56, 57]\n"
     ]
    }
   ],
   "source": [
    "destinations = [9,24,38]\n",
    "source = []\n",
    "for i in range(1,58):\n",
    "    if i not in destinations:\n",
    "        source.append(i)\n",
    "\n",
    "print(destinations)\n",
    "print(source)"
   ]
  },
  {
   "cell_type": "code",
   "execution_count": 86,
   "id": "a8941bcb",
   "metadata": {},
   "outputs": [
    {
     "name": "stdout",
     "output_type": "stream",
     "text": [
      "[31. 25. 27. ... 26. 31. 26.]\n",
      "54.0 3.0\n"
     ]
    }
   ],
   "source": [
    "sample_size = 100000000\n",
    "maxval = 54\n",
    "mu = maxval // 2\n",
    "\n",
    "cutoff = poisson.cdf(maxval, mu)\n",
    "# generate uniform distribution [0,cutoff):\n",
    "u = uniform.rvs(scale=cutoff, size= sample_size)\n",
    "# convert to Poisson:\n",
    "truncated_poisson = poisson.ppf(u, mu)\n",
    "smallest = mu\n",
    "largest = mu\n",
    "for i in truncated_poisson:\n",
    "    if i > largest:\n",
    "        largest = i\n",
    "    elif i < smallest:\n",
    "        smallest = i\n",
    "print(truncated_poisson)\n",
    "print(largest,smallest)"
   ]
  },
  {
   "cell_type": "code",
   "execution_count": 84,
   "id": "eac194aa",
   "metadata": {},
   "outputs": [
    {
     "name": "stdout",
     "output_type": "stream",
     "text": [
      "[6 8 6 7 7 3 2 4 6 6]\n"
     ]
    }
   ],
   "source": [
    "mu = 10\n",
    "mean, var, skew, kurt = poisson.stats(mu, moments='mvsk')\n",
    "\n",
    "#print(poisson.rvs(mu, size=1000))\n",
    "print(np.random.poisson(5, 10))"
   ]
  },
  {
   "cell_type": "code",
   "execution_count": null,
   "id": "ed6da5fe",
   "metadata": {},
   "outputs": [],
   "source": []
  },
  {
   "cell_type": "code",
   "execution_count": null,
   "id": "d7f398e7",
   "metadata": {},
   "outputs": [],
   "source": []
  },
  {
   "cell_type": "code",
   "execution_count": 41,
   "id": "80aaea21",
   "metadata": {},
   "outputs": [],
   "source": [
    "df=pd.read_csv('first.csv')"
   ]
  },
  {
   "cell_type": "code",
   "execution_count": 42,
   "id": "8ca428fd",
   "metadata": {},
   "outputs": [
    {
     "data": {
      "text/plain": [
       "(311029, 42)"
      ]
     },
     "execution_count": 42,
     "metadata": {},
     "output_type": "execute_result"
    }
   ],
   "source": [
    "df.shape"
   ]
  },
  {
   "cell_type": "code",
   "execution_count": 43,
   "id": "89572535",
   "metadata": {},
   "outputs": [
    {
     "name": "stdout",
     "output_type": "stream",
     "text": [
      "Index(['C1', 'C2', 'C3', 'C4', 'C5', 'C6', 'C7', 'C8', 'C9', 'C10', 'C11',\n",
      "       'C12', 'C13', 'C14', 'C15', 'C16', 'C17', 'C18', 'C19', 'C20', 'C21',\n",
      "       'C22', 'C23', 'C24', 'C25', 'C26', 'C27', 'C28', 'C29', 'C30', 'C31',\n",
      "       'C32', 'C33', 'C34', 'C35', 'C36', 'C37', 'C38', 'C39', 'C40', 'C41'],\n",
      "      dtype='object')\n"
     ]
    }
   ],
   "source": [
    "df.columns\n",
    "list_of_zeros = [0] * df.shape[0]\n",
    "#df['C69'] = list_of_zeros\n",
    "\n",
    "ser = pd.Series(list_of_zeros)\n",
    "df.insert(41,'I1',ser)\n",
    "feature_names = df.columns\n",
    "feature_names = feature_names[:41]\n",
    "print(feature_names)"
   ]
  },
  {
   "cell_type": "code",
   "execution_count": 44,
   "id": "b09c4341",
   "metadata": {},
   "outputs": [
    {
     "name": "stdout",
     "output_type": "stream",
     "text": [
      "        C1   C2       C3  C4   C5   C6  C7  C8  C9  C10  ...  C34   C35   C36  \\\n",
      "0        0  udp  private  SF  105  146   0   0   0    0  ...  1.0  0.01  0.00   \n",
      "1        0  udp  private  SF  105  146   0   0   0    0  ...  1.0  0.01  0.00   \n",
      "2        0  udp  private  SF  105  146   0   0   0    0  ...  1.0  0.01  0.00   \n",
      "3        0  udp  private  SF  105  146   0   0   0    0  ...  1.0  0.01  0.00   \n",
      "4        0  udp  private  SF  105  146   0   0   0    0  ...  1.0  0.01  0.01   \n",
      "...     ..  ...      ...  ..  ...  ...  ..  ..  ..  ...  ...  ...   ...   ...   \n",
      "311024   0  udp  private  SF  105  147   0   0   0    0  ...  1.0  0.00  0.01   \n",
      "311025   0  udp  private  SF  105  147   0   0   0    0  ...  1.0  0.00  0.01   \n",
      "311026   0  udp  private  SF  105  147   0   0   0    0  ...  1.0  0.00  0.01   \n",
      "311027   0  udp  private  SF  105  147   0   0   0    0  ...  1.0  0.00  0.01   \n",
      "311028   0  udp  private  SF  105  147   0   0   0    0  ...  1.0  0.00  0.01   \n",
      "\n",
      "        C37  C38  C39  C40  C41  I1             C42  \n",
      "0       0.0  0.0  0.0  0.0  0.0   0         normal.  \n",
      "1       0.0  0.0  0.0  0.0  0.0   0         normal.  \n",
      "2       0.0  0.0  0.0  0.0  0.0   0         normal.  \n",
      "3       0.0  0.0  0.0  0.0  0.0   0  snmpgetattack.  \n",
      "4       0.0  0.0  0.0  0.0  0.0   0  snmpgetattack.  \n",
      "...     ...  ...  ...  ...  ...  ..             ...  \n",
      "311024  0.0  0.0  0.0  0.0  0.0   0         normal.  \n",
      "311025  0.0  0.0  0.0  0.0  0.0   0         normal.  \n",
      "311026  0.0  0.0  0.0  0.0  0.0   0         normal.  \n",
      "311027  0.0  0.0  0.0  0.0  0.0   0         normal.  \n",
      "311028  0.0  0.0  0.0  0.0  0.0   0         normal.  \n",
      "\n",
      "[311029 rows x 43 columns]\n"
     ]
    }
   ],
   "source": [
    "print(df)"
   ]
  },
  {
   "cell_type": "code",
   "execution_count": 46,
   "id": "ef32833b",
   "metadata": {},
   "outputs": [],
   "source": [
    "df.to_csv(\"tmp_data.csv\", sep='\\t')"
   ]
  },
  {
   "cell_type": "code",
   "execution_count": null,
   "id": "a80c57d4",
   "metadata": {},
   "outputs": [],
   "source": []
  }
 ],
 "metadata": {
  "kernelspec": {
   "display_name": "Python 3",
   "language": "python",
   "name": "python3"
  },
  "language_info": {
   "codemirror_mode": {
    "name": "ipython",
    "version": 3
   },
   "file_extension": ".py",
   "mimetype": "text/x-python",
   "name": "python",
   "nbconvert_exporter": "python",
   "pygments_lexer": "ipython3",
   "version": "3.6.9"
  }
 },
 "nbformat": 4,
 "nbformat_minor": 5
}
